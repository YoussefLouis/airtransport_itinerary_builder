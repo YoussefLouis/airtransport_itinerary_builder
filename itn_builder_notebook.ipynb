{
 "cells": [
  {
   "cell_type": "code",
   "execution_count": 3,
   "metadata": {},
   "outputs": [],
   "source": [
    "import pandas as pd\n",
    "\n",
    "df = pd.read_csv(\"routes.csv\")"
   ]
  },
  {
   "cell_type": "code",
   "execution_count": 4,
   "metadata": {},
   "outputs": [
    {
     "data": {
      "text/html": [
       "<div>\n",
       "<style scoped>\n",
       "    .dataframe tbody tr th:only-of-type {\n",
       "        vertical-align: middle;\n",
       "    }\n",
       "\n",
       "    .dataframe tbody tr th {\n",
       "        vertical-align: top;\n",
       "    }\n",
       "\n",
       "    .dataframe thead th {\n",
       "        text-align: right;\n",
       "    }\n",
       "</style>\n",
       "<table border=\"1\" class=\"dataframe\">\n",
       "  <thead>\n",
       "    <tr style=\"text-align: right;\">\n",
       "      <th></th>\n",
       "      <th>airline</th>\n",
       "      <th>airline ID</th>\n",
       "      <th>source airport</th>\n",
       "      <th>source airport id</th>\n",
       "      <th>destination apirport</th>\n",
       "      <th>destination airport id</th>\n",
       "      <th>codeshare</th>\n",
       "      <th>stops</th>\n",
       "      <th>equipment</th>\n",
       "    </tr>\n",
       "  </thead>\n",
       "  <tbody>\n",
       "    <tr>\n",
       "      <th>998</th>\n",
       "      <td>4D</td>\n",
       "      <td>442</td>\n",
       "      <td>CAI</td>\n",
       "      <td>1128</td>\n",
       "      <td>TLV</td>\n",
       "      <td>1590</td>\n",
       "      <td>NaN</td>\n",
       "      <td>0</td>\n",
       "      <td>E70</td>\n",
       "    </tr>\n",
       "    <tr>\n",
       "      <th>3332</th>\n",
       "      <td>8U</td>\n",
       "      <td>32</td>\n",
       "      <td>CAI</td>\n",
       "      <td>1128</td>\n",
       "      <td>BEN</td>\n",
       "      <td>1154</td>\n",
       "      <td>NaN</td>\n",
       "      <td>0</td>\n",
       "      <td>320</td>\n",
       "    </tr>\n",
       "    <tr>\n",
       "      <th>3333</th>\n",
       "      <td>8U</td>\n",
       "      <td>32</td>\n",
       "      <td>CAI</td>\n",
       "      <td>1128</td>\n",
       "      <td>TIP</td>\n",
       "      <td>1157</td>\n",
       "      <td>NaN</td>\n",
       "      <td>0</td>\n",
       "      <td>320 332</td>\n",
       "    </tr>\n",
       "    <tr>\n",
       "      <th>4316</th>\n",
       "      <td>A3</td>\n",
       "      <td>96</td>\n",
       "      <td>CAI</td>\n",
       "      <td>1128</td>\n",
       "      <td>ATH</td>\n",
       "      <td>3941</td>\n",
       "      <td>NaN</td>\n",
       "      <td>0</td>\n",
       "      <td>738</td>\n",
       "    </tr>\n",
       "    <tr>\n",
       "      <th>9247</th>\n",
       "      <td>AF</td>\n",
       "      <td>137</td>\n",
       "      <td>CAI</td>\n",
       "      <td>1128</td>\n",
       "      <td>CDG</td>\n",
       "      <td>1382</td>\n",
       "      <td>NaN</td>\n",
       "      <td>0</td>\n",
       "      <td>332 343</td>\n",
       "    </tr>\n",
       "  </tbody>\n",
       "</table>\n",
       "</div>"
      ],
      "text/plain": [
       "     airline airline ID  source airport  source airport id  \\\n",
       "998       4D        442             CAI               1128   \n",
       "3332      8U         32             CAI               1128   \n",
       "3333      8U         32             CAI               1128   \n",
       "4316      A3         96             CAI               1128   \n",
       "9247      AF        137             CAI               1128   \n",
       "\n",
       "      destination apirport  destination airport id  codeshare   stops  \\\n",
       "998                    TLV                    1590        NaN       0   \n",
       "3332                   BEN                    1154        NaN       0   \n",
       "3333                   TIP                    1157        NaN       0   \n",
       "4316                   ATH                    3941        NaN       0   \n",
       "9247                   CDG                    1382        NaN       0   \n",
       "\n",
       "      equipment  \n",
       "998         E70  \n",
       "3332        320  \n",
       "3333    320 332  \n",
       "4316        738  \n",
       "9247    332 343  "
      ]
     },
     "execution_count": 4,
     "metadata": {},
     "output_type": "execute_result"
    }
   ],
   "source": [
    "df.head()\n",
    "\n",
    "df[df[\" source airport\"] == \"CAI\"].head()"
   ]
  },
  {
   "cell_type": "code",
   "execution_count": null,
   "metadata": {},
   "outputs": [],
   "source": []
  }
 ],
 "metadata": {
  "kernelspec": {
   "display_name": "Python 3",
   "language": "python",
   "name": "python3"
  },
  "language_info": {
   "codemirror_mode": {
    "name": "ipython",
    "version": 3
   },
   "file_extension": ".py",
   "mimetype": "text/x-python",
   "name": "python",
   "nbconvert_exporter": "python",
   "pygments_lexer": "ipython3",
   "version": "3.10.5"
  },
  "orig_nbformat": 4,
  "vscode": {
   "interpreter": {
    "hash": "b964c7cae6e5638512d1471438faf58e83367db21f577671c8145c693a2ceb9d"
   }
  }
 },
 "nbformat": 4,
 "nbformat_minor": 2
}
